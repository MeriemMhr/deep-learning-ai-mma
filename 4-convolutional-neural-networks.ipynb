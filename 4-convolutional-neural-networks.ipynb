{
 "cells": [
  {
   "cell_type": "code",
   "execution_count": 1,
   "metadata": {},
   "outputs": [],
   "source": [
    "import torch\n",
    "from torchvision import datasets, transforms\n",
    "import torch.nn as nn\n",
    "import torch.nn.functional as F\n",
    "import torch.optim as optim"
   ]
  },
  {
   "cell_type": "code",
   "execution_count": 2,
   "metadata": {},
   "outputs": [
    {
     "name": "stdout",
     "output_type": "stream",
     "text": [
      "cuda:0\n"
     ]
    }
   ],
   "source": [
    "# Check if CUDA is available\n",
    "device = torch.device(\"cuda:0\" if torch.cuda.is_available() else \"cpu\")\n",
    "print(device)"
   ]
  },
  {
   "cell_type": "code",
   "execution_count": 3,
   "metadata": {},
   "outputs": [],
   "source": [
    "# Define a transform to normalize the data\n",
    "transform = transforms.Compose([transforms.ToTensor(),\n",
    "                                transforms.Normalize((0.5,), (0.5,))])"
   ]
  },
  {
   "cell_type": "code",
   "execution_count": 4,
   "metadata": {},
   "outputs": [],
   "source": [
    "# Download and load the training data\n",
    "trainset = datasets.MNIST('~/.pytorch/MNIST_data/', download=True, train=True, transform=transform)\n",
    "trainloader = torch.utils.data.DataLoader(trainset, batch_size=6, shuffle=True)\n",
    "\n",
    "# Download and load the test data\n",
    "testset = datasets.MNIST('~/.pytorch/MNIST_data/', download=True, train=False, transform=transform)\n",
    "testloader = torch.utils.data.DataLoader(testset, batch_size=6, shuffle=True)"
   ]
  },
  {
   "cell_type": "code",
   "execution_count": 5,
   "metadata": {},
   "outputs": [],
   "source": [
    "# Define the network architecture\n",
    "class Net(nn.Module):\n",
    "    def __init__(self):\n",
    "        super().__init__()\n",
    "        self.conv1 = nn.Conv2d(1, 32, kernel_size=5, padding=2) # Input channel is 1, output channels is 32\n",
    "        self.conv2 = nn.Conv2d(32, 64, kernel_size=5, padding=2)\n",
    "        self.fc1 = nn.Linear(7*7*64, 1024) # Fully connected layers\n",
    "        self.fc2 = nn.Linear(1024, 10) # Output 10 classes for digits 0-9\n",
    "\n",
    "    def forward(self, x):\n",
    "        x = F.relu(F.max_pool2d(self.conv1(x), 2)) # Max pooling over a (2, 2) window\n",
    "        x = F.relu(F.max_pool2d(self.conv2(x), 2))\n",
    "        x = x.view(-1, 7*7*64) # Flatten the tensor for the fully connected layer\n",
    "        x = F.relu(self.fc1(x))\n",
    "        x = self.fc2(x)\n",
    "        return F.log_softmax(x, dim=1)\n",
    "    \n",
    "net = Net().to(device)"
   ]
  },
  {
   "cell_type": "code",
   "execution_count": 6,
   "metadata": {},
   "outputs": [],
   "source": [
    "# Define the loss function and optimizer\n",
    "criterion = nn.CrossEntropyLoss()\n",
    "optimizer = optim.SGD(net.parameters(), lr=0.001, momentum=0.9)"
   ]
  },
  {
   "cell_type": "code",
   "execution_count": 7,
   "metadata": {},
   "outputs": [
    {
     "name": "stdout",
     "output_type": "stream",
     "text": [
      "[1,  2000] loss: 0.472\n",
      "[1,  4000] loss: 0.112\n",
      "[1,  6000] loss: 0.084\n",
      "[1,  8000] loss: 0.066\n",
      "[1, 10000] loss: 0.059\n",
      "[2,  2000] loss: 0.047\n",
      "[2,  4000] loss: 0.043\n",
      "[2,  6000] loss: 0.047\n",
      "[2,  8000] loss: 0.041\n",
      "[2, 10000] loss: 0.038\n",
      "[3,  2000] loss: 0.032\n",
      "[3,  4000] loss: 0.028\n",
      "[3,  6000] loss: 0.029\n",
      "[3,  8000] loss: 0.028\n",
      "[3, 10000] loss: 0.028\n",
      "[4,  2000] loss: 0.019\n",
      "[4,  4000] loss: 0.021\n",
      "[4,  6000] loss: 0.021\n",
      "[4,  8000] loss: 0.023\n",
      "[4, 10000] loss: 0.024\n",
      "[5,  2000] loss: 0.016\n",
      "[5,  4000] loss: 0.015\n",
      "[5,  6000] loss: 0.017\n",
      "[5,  8000] loss: 0.015\n",
      "[5, 10000] loss: 0.016\n",
      "[6,  2000] loss: 0.010\n",
      "[6,  4000] loss: 0.012\n",
      "[6,  6000] loss: 0.011\n",
      "[6,  8000] loss: 0.014\n",
      "[6, 10000] loss: 0.015\n",
      "[7,  2000] loss: 0.007\n",
      "[7,  4000] loss: 0.009\n",
      "[7,  6000] loss: 0.009\n",
      "[7,  8000] loss: 0.010\n",
      "[7, 10000] loss: 0.010\n",
      "[8,  2000] loss: 0.006\n",
      "[8,  4000] loss: 0.009\n",
      "[8,  6000] loss: 0.007\n",
      "[8,  8000] loss: 0.008\n",
      "[8, 10000] loss: 0.008\n",
      "[9,  2000] loss: 0.004\n",
      "[9,  4000] loss: 0.006\n",
      "[9,  6000] loss: 0.008\n",
      "[9,  8000] loss: 0.005\n",
      "[9, 10000] loss: 0.007\n",
      "[10,  2000] loss: 0.003\n",
      "[10,  4000] loss: 0.003\n",
      "[10,  6000] loss: 0.004\n",
      "[10,  8000] loss: 0.002\n",
      "[10, 10000] loss: 0.006\n",
      "Finished Training\n"
     ]
    }
   ],
   "source": [
    "# Train the network\n",
    "for epoch in range(10):  # loop over the dataset multiple times\n",
    "\n",
    "    running_loss = 0.0\n",
    "    for i, data in enumerate(trainloader, 0):\n",
    "        # get the inputs; data is a list of [inputs, labels]\n",
    "        inputs, labels = data\n",
    "        inputs, labels = inputs.to(device), labels.to(device)\n",
    "\n",
    "        # zero the parameter gradients\n",
    "        optimizer.zero_grad()\n",
    "\n",
    "        # forward + backward + optimize\n",
    "        outputs = net(inputs)\n",
    "        loss = criterion(outputs, labels)\n",
    "        loss.backward()\n",
    "        optimizer.step()\n",
    "\n",
    "        # print statistics\n",
    "        running_loss += loss.item()\n",
    "        if i % 2000 == 1999:    # print every 2000 mini-batches\n",
    "            print(f'[{epoch + 1}, {i + 1:5d}] loss: {running_loss / 2000:.3f}')\n",
    "            running_loss = 0.0\n",
    "\n",
    "print('Finished Training')"
   ]
  },
  {
   "cell_type": "code",
   "execution_count": 9,
   "metadata": {},
   "outputs": [
    {
     "name": "stdout",
     "output_type": "stream",
     "text": [
      "Accuracy of the network on the 10000 test images: 99.25 %\n"
     ]
    }
   ],
   "source": [
    "# Test the network\n",
    "correct = 0\n",
    "total = 0\n",
    "# since we're not training, we don't need to calculate the gradients for our outputs\n",
    "with torch.no_grad():\n",
    "    for data in testloader:\n",
    "        images, labels = data\n",
    "        images, labels = images.to(device), labels.to(device)\n",
    "\n",
    "        # calculate outputs by running images through the network\n",
    "        outputs = net(images)\n",
    "        \n",
    "        # the class with the highest energy is what we choose as prediction\n",
    "        _, predicted = torch.max(outputs.data, 1)\n",
    "        total += labels.size(0)\n",
    "        correct += (predicted == labels).sum().item()\n",
    "\n",
    "print(f'Accuracy of the network on the 10000 test images: {(100 * correct / total):.2f} %')"
   ]
  }
 ],
 "metadata": {
  "kernelspec": {
   "display_name": "Python 3",
   "language": "python",
   "name": "python3"
  },
  "language_info": {
   "codemirror_mode": {
    "name": "ipython",
    "version": 3
   },
   "file_extension": ".py",
   "mimetype": "text/x-python",
   "name": "python",
   "nbconvert_exporter": "python",
   "pygments_lexer": "ipython3",
   "version": "3.11.4"
  }
 },
 "nbformat": 4,
 "nbformat_minor": 2
}
